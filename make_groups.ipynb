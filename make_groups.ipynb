{
 "cells": [
  {
   "cell_type": "code",
   "execution_count": null,
   "metadata": {},
   "outputs": [],
   "source": [
    "from pathlib import Path"
   ]
  },
  {
   "cell_type": "code",
   "execution_count": null,
   "metadata": {},
   "outputs": [],
   "source": [
    "folder_name = \"groups_new/0.1\"\n",
    "group_folder = Path(folder_name)\n",
    "group_dict = {}\n",
    "\n",
    "\n",
    "# Read the contents of each file\n",
    "for i in range(8):\n",
    "    file_path = group_folder / f\"{i}.txt\"\n",
    "    if file_path.exists():\n",
    "        with open(file_path, \"r\") as f:\n",
    "            contents = f.read().split()\n",
    "            group_dict[i] = set(map(int, contents))  # Convert to set of integers\n",
    "            print(f\"File {i}.txt contents: {group_dict[i]}\")\n"
   ]
  },
  {
   "cell_type": "code",
   "execution_count": null,
   "metadata": {},
   "outputs": [],
   "source": [
    "from itertools import combinations\n",
    "\n",
    "# Check for intersections\n",
    "for (i, set1), (j, set2) in combinations(group_dict.items(), 2):\n",
    "    intersection = set1.intersection(set2)\n",
    "    if intersection:\n",
    "        print(f\"Intersection between file {i} and file {j}: {intersection}\")"
   ]
  },
  {
   "cell_type": "code",
   "execution_count": null,
   "metadata": {},
   "outputs": [],
   "source": [
    "# Each file contains a list of space separated ids of the molecules in the group\n",
    "# Create a df with the columns molecule_id and group_id\n",
    "\n",
    "from pathlib import Path\n",
    "\n",
    "import pandas as pd\n",
    "\n",
    "folder_name = \"groups_new/0.1\"\n",
    "group_folder = Path(folder_name)\n",
    "group_folder.mkdir(exist_ok=True)\n",
    "\n",
    "group_df = pd.DataFrame(columns=[\"molecule_id\", \"group_id\"])\n",
    "\n",
    "for i in range(8):\n",
    "    with open(folder_name + \"/\" + str(i) + \".txt\", \"r\") as f:\n",
    "        contents = f.read().split()\n",
    "\n",
    "        for j in range(len(contents)):\n",
    "            group_df.loc[len(group_df)] = [contents[j], i]\n",
    "\n",
    "group_df.to_csv(folder_name + \"/group_df.csv\", index=False)\n",
    "group_df.head()"
   ]
  },
  {
   "cell_type": "code",
   "execution_count": null,
   "metadata": {},
   "outputs": [],
   "source": [
    "descFile = \"sasa_pol_desc_newRot.csv\"\n",
    "features = [\"pol\", \"psa\", \"n_donors\", \"nrotb\", \"n_acceptors\", \"logP\"]\n",
    "df = pd.read_csv(descFile)\n",
    "\n",
    "df.head()"
   ]
  },
  {
   "cell_type": "code",
   "execution_count": null,
   "metadata": {},
   "outputs": [],
   "source": [
    "def get_group_id(molecule_id):\n",
    "    id = molecule_id.split(\"_\")[-1]\n",
    "    try:\n",
    "        group_id = group_df.loc[group_df[\"molecule_id\"] == id, \"group_id\"].iloc[0]\n",
    "        return group_id\n",
    "    except IndexError:\n",
    "        # print('No group id found for molecule id {}'.format(molecule_id))\n",
    "        return None\n",
    "\n",
    "\n",
    "get_group_id(\"mobley_8057732\")"
   ]
  },
  {
   "cell_type": "code",
   "execution_count": null,
   "metadata": {},
   "outputs": [],
   "source": [
    "def add_group_id_column(df, group_df):\n",
    "    # Apply the get_group_id function to each mobleyID\n",
    "    df[\"group_id\"] = df[\"mobleyID\"].apply(get_group_id)\n",
    "    return df\n",
    "\n",
    "\n",
    "# Assuming your existing DataFrame is called 'molecules_df'\n",
    "df = add_group_id_column(df, group_df)"
   ]
  },
  {
   "cell_type": "code",
   "execution_count": null,
   "metadata": {},
   "outputs": [],
   "source": [
    "df.head()"
   ]
  },
  {
   "cell_type": "code",
   "execution_count": null,
   "metadata": {},
   "outputs": [],
   "source": [
    "df.columns"
   ]
  },
  {
   "cell_type": "code",
   "execution_count": null,
   "metadata": {},
   "outputs": [],
   "source": [
    "df = df[\n",
    "    [\n",
    "        \"mobleyID\",\n",
    "        \"pol\",\n",
    "        \"psa\",\n",
    "        \"n_donors\",\n",
    "        \"nrotb\",\n",
    "        \"group_id\",\n",
    "        \"dG_exp\",\n",
    "        \"n_acceptors\",\n",
    "        \"logP\",\n",
    "    ]\n",
    "]\n",
    "\n",
    "# Save the dataframe as a csv file\n",
    "df.to_csv(\"groups_new/0.1/grouped_data.csv\", index=False)"
   ]
  },
  {
   "cell_type": "code",
   "execution_count": null,
   "metadata": {},
   "outputs": [],
   "source": [
    "df[\"group_id\"].value_counts()"
   ]
  },
  {
   "cell_type": "code",
   "execution_count": null,
   "metadata": {},
   "outputs": [],
   "source": []
  }
 ],
 "metadata": {
  "kernelspec": {
   "display_name": "bio",
   "language": "python",
   "name": "python3"
  },
  "language_info": {
   "codemirror_mode": {
    "name": "ipython",
    "version": 3
   },
   "file_extension": ".py",
   "mimetype": "text/x-python",
   "name": "python",
   "nbconvert_exporter": "python",
   "pygments_lexer": "ipython3",
   "version": "3.10.12"
  }
 },
 "nbformat": 4,
 "nbformat_minor": 2
}
